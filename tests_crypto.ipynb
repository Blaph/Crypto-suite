{
 "cells": [
  {
   "cell_type": "markdown",
   "metadata": {},
   "source": [
    "# Cryptography test suite"
   ]
  },
  {
   "cell_type": "markdown",
   "metadata": {},
   "source": [
    "### Linear congruential generator"
   ]
  },
  {
   "cell_type": "markdown",
   "metadata": {},
   "source": [
    "Linear congurential generator takes 4 inputs:\n",
    "- *m* the modulus   $\\hspace{35pt}   m > 0$\n",
    "- *a* the multiplier    $\\hspace{35pt}   0 < a < m$\n",
    "- *c* the increment     $\\hspace{35pt}   0 \\leq c < m$\n",
    "- *$X_0$* the starting value, i.e.: the seed    $\\hspace{35pt}  0 \\leq X_0 < m$\n",
    "\n",
    "And the sequence ${X_n}$ is obtained with this logic:\n",
    "\n",
    "$$ X_{i+1} = (a X_n + c) \\hspace{2pt} mod \\hspace{2pt} m $$\n",
    "\n"
   ]
  },
  {
   "cell_type": "markdown",
   "metadata": {},
   "source": [
    "Selection for *a*, *c* and *m* is obviously critical.\n",
    "\n",
    "We would like to be *m* a very big number: a common criteria makes *m* close to the highest representable number from a computer, which is arount $2^{31}$\n",
    "\n",
    "The generator function must pass 3 tests:\n",
    "1. Function should generate all numbers between $0$ and $m - 1$ before repeating\n",
    "2. The generated sequence should appear random\n",
    "3. The function should implement efficiently with a 32-bit arithmetic\n",
    "\n",
    "It has been proved that is *m* is prime and *c* = 0, tests are passed for certain values of *a*.\n",
    "\n",
    "A common value for 32-bit arithmetic is $m = 2^{31} - 1$\n",
    "\n",
    "Thus, the generating function becomes:\n",
    "$$X_{n+1} = (a X_n + 0) \\hspace{3pt} mod \\hspace{3pt} (2^{31}-1)$$\n",
    "\n",
    "and a suitable value for *a* is $a = 7^5 = 16807$"
   ]
  },
  {
   "cell_type": "code",
   "execution_count": 20,
   "metadata": {},
   "outputs": [],
   "source": [
    "# Linear congruential generator\n",
    "\n",
    "def linear_congruential_generator(X0: int, m = 2147483647, a = 16807, c = 0):\n",
    "    '''\n",
    "        Parameters\n",
    "        ----------\n",
    "            m (int): the modulus. Must be > 0. Default is 2.147.483.647\n",
    "            a (int): the multiplier. Must be 0 < a < m. Default is 16807\n",
    "            c (int): the increment. Must be 0 <= c < m. Default is 0\n",
    "            X0 (int): the starting value, i.e.: the seed. Must be 0 <= X0 < m.\n",
    "\n",
    "        Returns\n",
    "        -------\n",
    "            Xn (set): a sequence of generated numbers\n",
    "    '''\n",
    "\n",
    "    # Initialize the generator\n",
    "    Xn = []\n",
    "    Xi = X0\n",
    "\n",
    "    # Keep repeating until a number is not already in the set\n",
    "    while True:\n",
    "\n",
    "        # Compute next number in the sequence\n",
    "        Xi = (a * Xi + c) % m\n",
    "        \n",
    "        # If number is not in the set, add it\n",
    "        if Xi not in Xn:\n",
    "            Xn.append(Xi)\n",
    "            print(Xi)\n",
    "\n",
    "        # If number is already in the set, stop the generator and return the list    \n",
    "        else:\n",
    "            break\n",
    "\n",
    "    return Xn\n"
   ]
  },
  {
   "cell_type": "code",
   "execution_count": null,
   "metadata": {},
   "outputs": [],
   "source": [
    "X0 = 1230394\n",
    "# a = 10\n",
    "# c = 20\n",
    "# m = 2389\n",
    "\n",
    "Xn = linear_congruential_generator(X0)"
   ]
  },
  {
   "cell_type": "markdown",
   "metadata": {},
   "source": [
    "### Blum Blum Shub Generator"
   ]
  },
  {
   "cell_type": "markdown",
   "metadata": {},
   "source": [
    "*Blum Blum Shub* (o *BBS*, nome che deriva dai cognomi degli autori), è un popolare algoritmo generatore di numeri **pseudocasuali**.\n",
    "\n",
    "Come prima cosa, bisogna scegliere due numeri *p* e *q* tale che valga:\n",
    "$$p \\equiv q \\equiv 3(mod \\hspace{3pt} 4)$$\n",
    "che equivale a dire:\n",
    "$$p \\hspace{3pt} mod \\hspace{3pt} 4 \\equiv q \\hspace{3pt} mod \\hspace{3pt} 4 \\equiv 3$$\n",
    "Poi, moltiplichiamoli tale che $n = p * q$.\n",
    "Scegliamo un numero *s* tale che *p* e *q* non siano suoi fattori di *s* e quindi gli siano relativamente primi.\n",
    "Quindi, *BBS* produce una serie di bit $B_i$ come previsto dal seguente algoritmo:\n",
    "$$x_0 = s^2 \\hspace{3pt} mod \\hspace{3pt} n$$\n",
    "$$for \\hspace{3pt} i = 1 \\hspace{3pt}  to \\hspace{3pt} \\infty$$\n",
    "$$x_i = (x_{i-1})^2 \\hspace{3pt} mod \\hspace{3pt} n$$\n",
    "$$B_i = x_i \\hspace{3pt} mod \\hspace{3pt} 2$$\n",
    "Significa che si inizia scegliendo un seed ($x_0$) e da quello si calcolano i numeri successivi, i quali vengono convertiti in bit.\n",
    "In particolare, viene preso ciascun bit <u>meno significativo</u> e lo si aggiunge alla sequenza di numeri.\n",
    "\n",
    "Dato che richiede numeri molto grandi, BBS è un algoritmo lento, troppo affinché possa realmente essere utile per cifrare. È buono per generare chiavi degli algoritmi di cifratura, è imprevedibile ed è definito anche un **cryptographically secure pseudorandom bit generator (CSPRBG)** poiché passa il **next-bit test**.\n",
    "\n",
    "Si dice che si verifica il **next-bit test** se <u>non esiste</u> un *algoritmo tempo-polinomiale di ordine k* (cioè, che ha un tempo di esecuzione limitato da un polinomio di ordine *k*) che, data in input una sequenza di *k* bit in uscita, può predire il *k+1-esimo* bit con probabilità > $1/2$.\n",
    "In altre parole, significa che non esiste un algoritmo che riesce a predire se il bit successivo di una sequenza sarà 0 o 1, con probabilità > $1/2$. Ampliando il concetto a tutti i numeri della sequenza, è ovvio che significa che la sequenza stessa è imprevedibile.\n",
    "\n",
    "La difficoltà dell'algoritmo sta nel trovare *n*, in quanto risultato dei suoi fattori *p* e *q*."
   ]
  },
  {
   "cell_type": "code",
   "execution_count": 9,
   "metadata": {},
   "outputs": [],
   "source": [
    "def bbs(p, q, s, l=20):\n",
    "    '''\n",
    "    Parameters\n",
    "    ----------\n",
    "        p (int): one of the two n factors. Toy example default value is 383\n",
    "        q (int): the second of the two n factors. Toy example default value is 503\n",
    "        s (int): the seed of the generator. Toy example default value is 101355\n",
    "        l (int): length of the generated sequence. Default is 20\n",
    "    \n",
    "    Returns\n",
    "    -------\n",
    "        Bn (list): the generated sequence of bits\n",
    "    '''\n",
    "\n",
    "    # Initialize the sequence\n",
    "    Bn = []\n",
    "\n",
    "    # Generate n\n",
    "    n = p * q\n",
    "\n",
    "    # Generate first element of the sequence = x0\n",
    "    xi = (s**2) % n\n",
    "\n",
    "    for i in range(l):\n",
    "        xi = (xi**2) % n\n",
    "        Bi = xi % 2\n",
    "        Bn.append(Bi)\n",
    "    \n",
    "    return Bn"
   ]
  },
  {
   "cell_type": "code",
   "execution_count": 10,
   "metadata": {},
   "outputs": [
    {
     "data": {
      "text/plain": [
       "[1, 1, 0, 0, 1, 1, 1, 0, 0, 0, 0, 1, 0, 0, 1, 1, 1, 0, 1, 0]"
      ]
     },
     "execution_count": 10,
     "metadata": {},
     "output_type": "execute_result"
    }
   ],
   "source": [
    "p = 383\n",
    "q = 503\n",
    "s = 101355\n",
    "l = 20\n",
    "\n",
    "Bn = bbs(p, q, s)\n",
    "Bn"
   ]
  },
  {
   "cell_type": "markdown",
   "metadata": {},
   "source": [
    "### RC4"
   ]
  },
  {
   "cell_type": "code",
   "execution_count": 18,
   "metadata": {},
   "outputs": [],
   "source": [
    "def _xor_letters(key, letter):\n",
    "    # Convert letters into integers using ord()\n",
    "    # Then, convert them in binary using 'bin()', and trim their prefix '0b' using [2:]\n",
    "    # Finally, fill with 0 to the left until length of the string is 8 characters using 'zfill(8)'\n",
    "    bin_letter1 = bin(key)[2:].zfill(8)\n",
    "    bin_letter2 = bin(ord(letter))[2:].zfill(8)\n",
    "\n",
    "    # bitwise XOR\n",
    "    result = ''.join(str(int(bit1) ^ int(bit2)) for bit1, bit2 in zip(bin_letter1, bin_letter2))\n",
    "\n",
    "    # Convert the binary in char using 'chr()'\n",
    "    return chr(int(result, 2))"
   ]
  },
  {
   "cell_type": "code",
   "execution_count": 19,
   "metadata": {},
   "outputs": [],
   "source": [
    "import random\n",
    "import copy\n",
    "\n",
    "def rc4(stream, key_index=None):\n",
    "\n",
    "    '''\n",
    "        RC4 is a stream cypher widely used for its semplicity and efficiency. It uses a variable length key.\n",
    "\n",
    "        Parameters\n",
    "        ----------\n",
    "            stream (str): the first stream of plaintext RC4 will cypher/decipher\n",
    "            key_index (int): the key used for ciphering/deciphering the input stream. If none, a new key will be generated. Default is 'None'\n",
    "\n",
    "        Returns\n",
    "        -------\n",
    "            op_stream (str): the corresponding ciphered/deciphered stream \n",
    "    '''\n",
    "\n",
    "    MOD = 256\n",
    "\n",
    "    # Initialization step\n",
    "    S = []\n",
    "\n",
    "    for i in range(MOD):\n",
    "        S.append(i)\n",
    "\n",
    "    T = copy.deepcopy(S)\n",
    "\n",
    "    # Generate a new key\n",
    "    if key_index is None:\n",
    "        # Choose a random key K from vector state S\n",
    "        key_index = random.randint(0, MOD)\n",
    "    \n",
    "    print(\"K is\", key_index)\n",
    "\n",
    "    for i in range(MOD):\n",
    "        T[i] = S[i % key_index]\n",
    "\n",
    "    # Swap elements according to T\n",
    "    j = 0\n",
    "    for i in range(MOD):\n",
    "        j = (j + S[i] + T[i]) % MOD\n",
    "        aux = S[i]\n",
    "        S[i] = S[j]\n",
    "        S[j] = aux\n",
    "\n",
    "    # Stream generation\n",
    "    # Swap elements according to S\n",
    "    op_stream = []    \n",
    "\n",
    "    for stream_bit in range(len(stream)):\n",
    "        i = (stream_bit + 1) % MOD\n",
    "        j = (j + S[i]) % MOD\n",
    "\n",
    "        aux = S[i]\n",
    "        S[i] = S[j]\n",
    "        S[j] = aux\n",
    "\n",
    "        t = (S[i] + S[j]) % MOD\n",
    "        k = S[t]\n",
    "\n",
    "        x_cyph = _xor_letters(k, stream[stream_bit])\n",
    "\n",
    "        op_stream.append(x_cyph)\n",
    "\n",
    "    message = str()\n",
    "\n",
    "    for x in op_stream:\n",
    "        message += x\n",
    "\n",
    "    return message, key_index"
   ]
  },
  {
   "cell_type": "code",
   "execution_count": 20,
   "metadata": {},
   "outputs": [
    {
     "name": "stdout",
     "output_type": "stream",
     "text": [
      "K is 76\n",
      "Cyphered text is: Le5N\u001a\n",
      "With key: 76\n",
      "K is 76\n",
      "Deciphered text is: prova\n",
      "With key: 76\n"
     ]
    }
   ],
   "source": [
    "plaintext = \"prova\"\n",
    "\n",
    "s, k = rc4(plaintext)\n",
    "\n",
    "print(f\"Cyphered text is: {s}\\nWith key: {k}\")\n",
    "\n",
    "s, k = rc4(s, k)\n",
    "\n",
    "print(f\"Deciphered text is: {s}\\nWith key: {k}\")"
   ]
  },
  {
   "cell_type": "markdown",
   "metadata": {},
   "source": [
    "### Ceasar cypher"
   ]
  },
  {
   "cell_type": "code",
   "execution_count": 78,
   "metadata": {},
   "outputs": [],
   "source": [
    "def caesar(plaintext: str, op_mode=\"enc\"):\n",
    "\n",
    "    plaintext = plaintext.lower()\n",
    "\n",
    "    alphabet = \"abcdefghijklmnopqrstuvwxyz\"  # mod 26\n",
    "\n",
    "    assert op_mode == \"enc\" or op_mode == \"dec\", \"op_mode should be 'enc' for encryption or 'dec' for decryption\"\n",
    "\n",
    "    cyp = \"\"\n",
    "\n",
    "    if op_mode == \"enc\":\n",
    "        for ch in plaintext:\n",
    "            i_cyp = (alphabet.index(ch) + 3) % 26\n",
    "\n",
    "            cyp += alphabet[i_cyp]\n",
    "    else:\n",
    "        for ch in plaintext:\n",
    "            i_cyp = (alphabet.index(ch) - 3) % 26\n",
    "\n",
    "            cyp += alphabet[i_cyp]\n",
    "        \n",
    "\n",
    "    return cyp\n",
    "    "
   ]
  },
  {
   "cell_type": "code",
   "execution_count": 81,
   "metadata": {},
   "outputs": [
    {
     "name": "stdout",
     "output_type": "stream",
     "text": [
      "dwwdfndwgdzq\n"
     ]
    },
    {
     "data": {
      "text/plain": [
       "'attackatdawn'"
      ]
     },
     "execution_count": 81,
     "metadata": {},
     "output_type": "execute_result"
    }
   ],
   "source": [
    "# Encryption\n",
    "x = caesar(\"Attackatdawn\")\n",
    "print(x)\n",
    "\n",
    "# Decryption\n",
    "x = caesar(x, op_mode=\"dec\")\n",
    "x"
   ]
  },
  {
   "cell_type": "markdown",
   "metadata": {},
   "source": [
    "### B"
   ]
  }
 ],
 "metadata": {
  "kernelspec": {
   "display_name": "Python 3",
   "language": "python",
   "name": "python3"
  },
  "language_info": {
   "codemirror_mode": {
    "name": "ipython",
    "version": 3
   },
   "file_extension": ".py",
   "mimetype": "text/x-python",
   "name": "python",
   "nbconvert_exporter": "python",
   "pygments_lexer": "ipython3",
   "version": "3.11.4"
  }
 },
 "nbformat": 4,
 "nbformat_minor": 2
}
